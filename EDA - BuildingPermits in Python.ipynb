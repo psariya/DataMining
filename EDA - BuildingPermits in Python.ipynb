{
 "cells": [
  {
   "cell_type": "markdown",
   "metadata": {},
   "source": [
    "# Exploratory Data Analysis of Building Permits data set."
   ]
  },
  {
   "cell_type": "markdown",
   "metadata": {},
   "source": [
    "The dataset comes from the City of Raleigh Open Data website and is based upon pending/granted building permits."
   ]
  },
  {
   "cell_type": "markdown",
   "metadata": {},
   "source": [
    "# Data Import and Preprocessing"
   ]
  },
  {
   "cell_type": "code",
   "execution_count": 1,
   "metadata": {},
   "outputs": [],
   "source": [
    "import pandas as pd\n",
    "import matplotlib.pyplot as plt\n",
    "import calendar"
   ]
  },
  {
   "cell_type": "code",
   "execution_count": 2,
   "metadata": {},
   "outputs": [
    {
     "data": {
      "text/plain": [
       "(141953, 87)"
      ]
     },
     "execution_count": 2,
     "metadata": {},
     "output_type": "execute_result"
    }
   ],
   "source": [
    "df1 = pd.read_csv(\"https://s3.amazonaws.com/cc-analytics-datasets/Building_Permits.csv\",low_memory=False)\n",
    "df1.shape"
   ]
  },
  {
   "cell_type": "code",
   "execution_count": 3,
   "metadata": {},
   "outputs": [
    {
     "data": {
      "text/html": [
       "<div>\n",
       "<style scoped>\n",
       "    .dataframe tbody tr th:only-of-type {\n",
       "        vertical-align: middle;\n",
       "    }\n",
       "\n",
       "    .dataframe tbody tr th {\n",
       "        vertical-align: top;\n",
       "    }\n",
       "\n",
       "    .dataframe thead th {\n",
       "        text-align: right;\n",
       "    }\n",
       "</style>\n",
       "<table border=\"1\" class=\"dataframe\">\n",
       "  <thead>\n",
       "    <tr style=\"text-align: right;\">\n",
       "      <th></th>\n",
       "      <th>X</th>\n",
       "      <th>Y</th>\n",
       "      <th>OBJECTID</th>\n",
       "      <th>permittypemapped</th>\n",
       "      <th>permitnum</th>\n",
       "      <th>workclass</th>\n",
       "      <th>permitclass</th>\n",
       "      <th>proposedworkdescription</th>\n",
       "      <th>permitclassmapped</th>\n",
       "      <th>applieddate</th>\n",
       "      <th>...</th>\n",
       "      <th>totalsqft</th>\n",
       "      <th>voiddate</th>\n",
       "      <th>workclassmapped</th>\n",
       "      <th>GlobalID</th>\n",
       "      <th>CreationDate</th>\n",
       "      <th>Creator</th>\n",
       "      <th>EditDate</th>\n",
       "      <th>Editor</th>\n",
       "      <th>const_type</th>\n",
       "      <th>occupancyclass</th>\n",
       "    </tr>\n",
       "  </thead>\n",
       "  <tbody>\n",
       "    <tr>\n",
       "      <th>0</th>\n",
       "      <td>-78.734835</td>\n",
       "      <td>35.903045</td>\n",
       "      <td>48520</td>\n",
       "      <td>Building</td>\n",
       "      <td>147303</td>\n",
       "      <td>Alterations/repairs</td>\n",
       "      <td>434.0</td>\n",
       "      <td>REPAIR FIRE DAMAGE</td>\n",
       "      <td>Residential</td>\n",
       "      <td>2018-03-02T18:12:31.000Z</td>\n",
       "      <td>...</td>\n",
       "      <td>2064.0</td>\n",
       "      <td>NaN</td>\n",
       "      <td>Existing</td>\n",
       "      <td>e94cf493-fe7f-49d6-927f-b6127a3435b6</td>\n",
       "      <td>2018-03-16T01:55:55.663Z</td>\n",
       "      <td>justin.greco@raleighnc.gov_ral</td>\n",
       "      <td>2018-06-15T22:03:10.675Z</td>\n",
       "      <td>OpenData_ral</td>\n",
       "      <td>V  B</td>\n",
       "      <td>RESIDENT 3  SFD/DUP</td>\n",
       "    </tr>\n",
       "    <tr>\n",
       "      <th>1</th>\n",
       "      <td>-78.534184</td>\n",
       "      <td>35.729309</td>\n",
       "      <td>48521</td>\n",
       "      <td>Building</td>\n",
       "      <td>147288</td>\n",
       "      <td>New Building</td>\n",
       "      <td>101.0</td>\n",
       "      <td>SFD</td>\n",
       "      <td>Residential</td>\n",
       "      <td>2018-03-02T15:16:37.000Z</td>\n",
       "      <td>...</td>\n",
       "      <td>1684.0</td>\n",
       "      <td>NaN</td>\n",
       "      <td>New</td>\n",
       "      <td>f114dc19-3b62-459b-bd6c-9084162403c8</td>\n",
       "      <td>2018-03-16T01:55:55.663Z</td>\n",
       "      <td>justin.greco@raleighnc.gov_ral</td>\n",
       "      <td>2018-06-12T22:02:31.949Z</td>\n",
       "      <td>OpenData_ral</td>\n",
       "      <td>V  B</td>\n",
       "      <td>RESIDENT 3  SFD/DUP</td>\n",
       "    </tr>\n",
       "    <tr>\n",
       "      <th>2</th>\n",
       "      <td>-78.534323</td>\n",
       "      <td>35.728595</td>\n",
       "      <td>48522</td>\n",
       "      <td>Building</td>\n",
       "      <td>147287</td>\n",
       "      <td>New Building</td>\n",
       "      <td>101.0</td>\n",
       "      <td>SFD</td>\n",
       "      <td>Residential</td>\n",
       "      <td>2018-03-02T15:08:25.000Z</td>\n",
       "      <td>...</td>\n",
       "      <td>2378.0</td>\n",
       "      <td>NaN</td>\n",
       "      <td>New</td>\n",
       "      <td>d4b182cb-af25-4c3f-92a9-a59d4b82ada3</td>\n",
       "      <td>2018-03-16T01:55:55.663Z</td>\n",
       "      <td>justin.greco@raleighnc.gov_ral</td>\n",
       "      <td>2018-06-13T22:02:40.102Z</td>\n",
       "      <td>OpenData_ral</td>\n",
       "      <td>V  B</td>\n",
       "      <td>RESIDENT 3  SFD/DUP</td>\n",
       "    </tr>\n",
       "    <tr>\n",
       "      <th>3</th>\n",
       "      <td>-78.531789</td>\n",
       "      <td>35.729794</td>\n",
       "      <td>48523</td>\n",
       "      <td>Building</td>\n",
       "      <td>147286</td>\n",
       "      <td>New Building</td>\n",
       "      <td>101.0</td>\n",
       "      <td>NEW SFD</td>\n",
       "      <td>Residential</td>\n",
       "      <td>2018-03-02T15:00:47.000Z</td>\n",
       "      <td>...</td>\n",
       "      <td>1392.0</td>\n",
       "      <td>NaN</td>\n",
       "      <td>New</td>\n",
       "      <td>ecc76e8c-48d3-4529-a7ae-f1d616592c08</td>\n",
       "      <td>2018-03-16T01:55:55.663Z</td>\n",
       "      <td>justin.greco@raleighnc.gov_ral</td>\n",
       "      <td>2018-06-27T22:02:34.320Z</td>\n",
       "      <td>OpenData_ral</td>\n",
       "      <td>V  B</td>\n",
       "      <td>RESIDENT 3  SFD/DUP</td>\n",
       "    </tr>\n",
       "    <tr>\n",
       "      <th>4</th>\n",
       "      <td>-78.533914</td>\n",
       "      <td>35.729473</td>\n",
       "      <td>48524</td>\n",
       "      <td>Building</td>\n",
       "      <td>147284</td>\n",
       "      <td>New Building</td>\n",
       "      <td>101.0</td>\n",
       "      <td>NEW SFD</td>\n",
       "      <td>Residential</td>\n",
       "      <td>2018-03-02T14:32:33.000Z</td>\n",
       "      <td>...</td>\n",
       "      <td>1392.0</td>\n",
       "      <td>NaN</td>\n",
       "      <td>New</td>\n",
       "      <td>a1074b43-bc40-4efa-bc7f-a167c351c327</td>\n",
       "      <td>2018-03-16T01:55:55.663Z</td>\n",
       "      <td>justin.greco@raleighnc.gov_ral</td>\n",
       "      <td>2018-06-12T22:02:31.949Z</td>\n",
       "      <td>OpenData_ral</td>\n",
       "      <td>V  B</td>\n",
       "      <td>RESIDENT 3  SFD/DUP</td>\n",
       "    </tr>\n",
       "  </tbody>\n",
       "</table>\n",
       "<p>5 rows × 87 columns</p>\n",
       "</div>"
      ],
      "text/plain": [
       "           X          Y  OBJECTID permittypemapped  permitnum  \\\n",
       "0 -78.734835  35.903045     48520         Building     147303   \n",
       "1 -78.534184  35.729309     48521         Building     147288   \n",
       "2 -78.534323  35.728595     48522         Building     147287   \n",
       "3 -78.531789  35.729794     48523         Building     147286   \n",
       "4 -78.533914  35.729473     48524         Building     147284   \n",
       "\n",
       "             workclass  permitclass proposedworkdescription permitclassmapped  \\\n",
       "0  Alterations/repairs        434.0      REPAIR FIRE DAMAGE       Residential   \n",
       "1         New Building        101.0                     SFD       Residential   \n",
       "2         New Building        101.0                     SFD       Residential   \n",
       "3         New Building        101.0                 NEW SFD       Residential   \n",
       "4         New Building        101.0                 NEW SFD       Residential   \n",
       "\n",
       "                applieddate  ... totalsqft  voiddate workclassmapped  \\\n",
       "0  2018-03-02T18:12:31.000Z  ...    2064.0       NaN        Existing   \n",
       "1  2018-03-02T15:16:37.000Z  ...    1684.0       NaN             New   \n",
       "2  2018-03-02T15:08:25.000Z  ...    2378.0       NaN             New   \n",
       "3  2018-03-02T15:00:47.000Z  ...    1392.0       NaN             New   \n",
       "4  2018-03-02T14:32:33.000Z  ...    1392.0       NaN             New   \n",
       "\n",
       "                               GlobalID              CreationDate  \\\n",
       "0  e94cf493-fe7f-49d6-927f-b6127a3435b6  2018-03-16T01:55:55.663Z   \n",
       "1  f114dc19-3b62-459b-bd6c-9084162403c8  2018-03-16T01:55:55.663Z   \n",
       "2  d4b182cb-af25-4c3f-92a9-a59d4b82ada3  2018-03-16T01:55:55.663Z   \n",
       "3  ecc76e8c-48d3-4529-a7ae-f1d616592c08  2018-03-16T01:55:55.663Z   \n",
       "4  a1074b43-bc40-4efa-bc7f-a167c351c327  2018-03-16T01:55:55.663Z   \n",
       "\n",
       "                          Creator                  EditDate        Editor  \\\n",
       "0  justin.greco@raleighnc.gov_ral  2018-06-15T22:03:10.675Z  OpenData_ral   \n",
       "1  justin.greco@raleighnc.gov_ral  2018-06-12T22:02:31.949Z  OpenData_ral   \n",
       "2  justin.greco@raleighnc.gov_ral  2018-06-13T22:02:40.102Z  OpenData_ral   \n",
       "3  justin.greco@raleighnc.gov_ral  2018-06-27T22:02:34.320Z  OpenData_ral   \n",
       "4  justin.greco@raleighnc.gov_ral  2018-06-12T22:02:31.949Z  OpenData_ral   \n",
       "\n",
       "  const_type       occupancyclass  \n",
       "0       V  B  RESIDENT 3  SFD/DUP  \n",
       "1       V  B  RESIDENT 3  SFD/DUP  \n",
       "2       V  B  RESIDENT 3  SFD/DUP  \n",
       "3       V  B  RESIDENT 3  SFD/DUP  \n",
       "4       V  B  RESIDENT 3  SFD/DUP  \n",
       "\n",
       "[5 rows x 87 columns]"
      ]
     },
     "execution_count": 3,
     "metadata": {},
     "output_type": "execute_result"
    }
   ],
   "source": [
    "### Loading the dataset takes some time, so make a local copy if we have to use it again in future\n",
    "df = df1\n",
    "df1.head()"
   ]
  },
  {
   "cell_type": "code",
   "execution_count": 4,
   "metadata": {},
   "outputs": [
    {
     "name": "stdout",
     "output_type": "stream",
     "text": [
      "constcompletedofficial\n",
      "expirednewpermnum\n",
      "jurisdiction\n",
      "permittype\n",
      "publisher\n"
     ]
    }
   ],
   "source": [
    "### Drop columns that have only one distinct value in them\n",
    "for column in df.columns:\n",
    "    if len(df[column].unique()) <= 1:\n",
    "        print(column)\n",
    "        df.drop(column,inplace= True, axis= 1)"
   ]
  },
  {
   "cell_type": "markdown",
   "metadata": {},
   "source": [
    "Removing all the date columns as they are not needed for analysis"
   ]
  },
  {
   "cell_type": "code",
   "execution_count": 5,
   "metadata": {},
   "outputs": [
    {
     "data": {
      "text/plain": [
       "(141953, 75)"
      ]
     },
     "execution_count": 5,
     "metadata": {},
     "output_type": "execute_result"
    }
   ],
   "source": [
    "df = df.loc[:, ~df.columns.str.endswith('date')]\n",
    "df.shape"
   ]
  },
  {
   "cell_type": "markdown",
   "metadata": {},
   "source": [
    "## Exploratory Data Analysis (EDA)"
   ]
  },
  {
   "cell_type": "markdown",
   "metadata": {},
   "source": [
    "Standard Deviation with respect to mean for X and Y coordinates of permit issued"
   ]
  },
  {
   "cell_type": "code",
   "execution_count": 6,
   "metadata": {},
   "outputs": [
    {
     "data": {
      "text/html": [
       "<div>\n",
       "<style scoped>\n",
       "    .dataframe tbody tr th:only-of-type {\n",
       "        vertical-align: middle;\n",
       "    }\n",
       "\n",
       "    .dataframe tbody tr th {\n",
       "        vertical-align: top;\n",
       "    }\n",
       "\n",
       "    .dataframe thead th {\n",
       "        text-align: right;\n",
       "    }\n",
       "</style>\n",
       "<table border=\"1\" class=\"dataframe\">\n",
       "  <thead>\n",
       "    <tr style=\"text-align: right;\">\n",
       "      <th></th>\n",
       "      <th>mean</th>\n",
       "      <th>std</th>\n",
       "    </tr>\n",
       "  </thead>\n",
       "  <tbody>\n",
       "    <tr>\n",
       "      <th>X</th>\n",
       "      <td>-78.635798</td>\n",
       "      <td>0.068805</td>\n",
       "    </tr>\n",
       "    <tr>\n",
       "      <th>Y</th>\n",
       "      <td>35.835300</td>\n",
       "      <td>0.058392</td>\n",
       "    </tr>\n",
       "  </tbody>\n",
       "</table>\n",
       "</div>"
      ],
      "text/plain": [
       "        mean       std\n",
       "X -78.635798  0.068805\n",
       "Y  35.835300  0.058392"
      ]
     },
     "execution_count": 6,
     "metadata": {},
     "output_type": "execute_result"
    }
   ],
   "source": [
    "df[['X','Y']].describe().T[['mean','std']]"
   ]
  },
  {
   "cell_type": "markdown",
   "metadata": {},
   "source": [
    "## Plots\n",
    "Plot the distributions for each of the following features: Estimated Project Cost and Issue Date Month"
   ]
  },
  {
   "cell_type": "markdown",
   "metadata": {},
   "source": [
    "## 1. Estimated Project Cost"
   ]
  },
  {
   "cell_type": "code",
   "execution_count": 7,
   "metadata": {},
   "outputs": [
    {
     "data": {
      "text/plain": [
       "count       141953\n",
       "mean        192012\n",
       "std        1493678\n",
       "min              0\n",
       "25%          10000\n",
       "50%          54404\n",
       "75%         135000\n",
       "max      170000000\n",
       "Name: estprojectcost, dtype: int32"
      ]
     },
     "execution_count": 7,
     "metadata": {},
     "output_type": "execute_result"
    }
   ],
   "source": [
    "df.estprojectcost.describe().astype('int')"
   ]
  },
  {
   "cell_type": "markdown",
   "metadata": {},
   "source": [
    "Since the standard deviation is much higher for estimated project cost, the data is not centered around mean\n",
    "hence we possibly should check for outliers"
   ]
  },
  {
   "cell_type": "code",
   "execution_count": 9,
   "metadata": {},
   "outputs": [
    {
     "data": {
      "text/plain": [
       "<matplotlib.axes._subplots.AxesSubplot at 0x136523fa6a0>"
      ]
     },
     "execution_count": 9,
     "metadata": {},
     "output_type": "execute_result"
    },
    {
     "data": {
      "image/png": "[encoded data removed]",
      "text/plain": [
       "<Figure size 432x288 with 1 Axes>"
      ]
     },
     "metadata": {
      "needs_background": "light"
     },
     "output_type": "display_data"
    }
   ],
   "source": [
    "import seaborn as sns\n",
    "sns.boxplot(df.estprojectcost)"
   ]
  },
  {
   "cell_type": "markdown",
   "metadata": {},
   "source": [
    "As the box width is very small and all other values on the right hand side are treated as outliers, we shall remove\n",
    "the outliers and plot histogram\n",
    "\n",
    "\n",
    "Calculating Interquartile range and removing outliers"
   ]
  },
  {
   "cell_type": "code",
   "execution_count": 10,
   "metadata": {},
   "outputs": [],
   "source": [
    "IQR = df.estprojectcost.describe()['75%'] - df.estprojectcost.describe()['25%']\n",
    "IQR1_5 = 1.5*IQR"
   ]
  },
  {
   "cell_type": "code",
   "execution_count": 11,
   "metadata": {},
   "outputs": [
    {
     "name": "stdout",
     "output_type": "stream",
     "text": [
      "Original length with outliers : 141953\n",
      "Length after removing outliers : 129902\n"
     ]
    }
   ],
   "source": [
    "estprojectcost = df[(df.estprojectcost <= (df.estprojectcost.describe()['75%'] + IQR1_5)) & \n",
    "                    (df.estprojectcost >= (df.estprojectcost.describe()['25%'] - IQR1_5))].estprojectcost.astype('int')\n",
    "print(\"Original length with outliers : \" + str(len(df.estprojectcost)) + \"\\n\" + \"Length after removing outliers : \" + str(len(estprojectcost)))"
   ]
  },
  {
   "cell_type": "markdown",
   "metadata": {},
   "source": [
    "Summmary Statistics after removing outliers"
   ]
  },
  {
   "cell_type": "code",
   "execution_count": 12,
   "metadata": {},
   "outputs": [
    {
     "data": {
      "text/plain": [
       "count    129902\n",
       "mean      69692\n",
       "std       76569\n",
       "min           0\n",
       "25%        8000\n",
       "50%       38797\n",
       "75%      108500\n",
       "max      322461\n",
       "Name: estprojectcost, dtype: int32"
      ]
     },
     "execution_count": 12,
     "metadata": {},
     "output_type": "execute_result"
    }
   ],
   "source": [
    "estprojectcost.describe().astype('int')"
   ]
  },
  {
   "cell_type": "markdown",
   "metadata": {},
   "source": [
    "## 2. Issuedate-month"
   ]
  },
  {
   "cell_type": "code",
   "execution_count": 13,
   "metadata": {},
   "outputs": [
    {
     "data": {
      "text/html": [
       "<div>\n",
       "<style scoped>\n",
       "    .dataframe tbody tr th:only-of-type {\n",
       "        vertical-align: middle;\n",
       "    }\n",
       "\n",
       "    .dataframe tbody tr th {\n",
       "        vertical-align: top;\n",
       "    }\n",
       "\n",
       "    .dataframe thead th {\n",
       "        text-align: right;\n",
       "    }\n",
       "</style>\n",
       "<table border=\"1\" class=\"dataframe\">\n",
       "  <thead>\n",
       "    <tr style=\"text-align: right;\">\n",
       "      <th></th>\n",
       "      <th>issueddate_mth</th>\n",
       "      <th>permitnum</th>\n",
       "    </tr>\n",
       "  </thead>\n",
       "  <tbody>\n",
       "    <tr>\n",
       "      <th>0</th>\n",
       "      <td>1.0</td>\n",
       "      <td>9915</td>\n",
       "    </tr>\n",
       "    <tr>\n",
       "      <th>1</th>\n",
       "      <td>2.0</td>\n",
       "      <td>9646</td>\n",
       "    </tr>\n",
       "    <tr>\n",
       "      <th>2</th>\n",
       "      <td>3.0</td>\n",
       "      <td>12189</td>\n",
       "    </tr>\n",
       "    <tr>\n",
       "      <th>3</th>\n",
       "      <td>4.0</td>\n",
       "      <td>12508</td>\n",
       "    </tr>\n",
       "    <tr>\n",
       "      <th>4</th>\n",
       "      <td>5.0</td>\n",
       "      <td>13498</td>\n",
       "    </tr>\n",
       "    <tr>\n",
       "      <th>5</th>\n",
       "      <td>6.0</td>\n",
       "      <td>13897</td>\n",
       "    </tr>\n",
       "    <tr>\n",
       "      <th>6</th>\n",
       "      <td>7.0</td>\n",
       "      <td>12239</td>\n",
       "    </tr>\n",
       "    <tr>\n",
       "      <th>7</th>\n",
       "      <td>8.0</td>\n",
       "      <td>13285</td>\n",
       "    </tr>\n",
       "    <tr>\n",
       "      <th>8</th>\n",
       "      <td>9.0</td>\n",
       "      <td>11648</td>\n",
       "    </tr>\n",
       "    <tr>\n",
       "      <th>9</th>\n",
       "      <td>10.0</td>\n",
       "      <td>11486</td>\n",
       "    </tr>\n",
       "    <tr>\n",
       "      <th>10</th>\n",
       "      <td>11.0</td>\n",
       "      <td>9317</td>\n",
       "    </tr>\n",
       "    <tr>\n",
       "      <th>11</th>\n",
       "      <td>12.0</td>\n",
       "      <td>8891</td>\n",
       "    </tr>\n",
       "  </tbody>\n",
       "</table>\n",
       "</div>"
      ],
      "text/plain": [
       "    issueddate_mth  permitnum\n",
       "0              1.0       9915\n",
       "1              2.0       9646\n",
       "2              3.0      12189\n",
       "3              4.0      12508\n",
       "4              5.0      13498\n",
       "5              6.0      13897\n",
       "6              7.0      12239\n",
       "7              8.0      13285\n",
       "8              9.0      11648\n",
       "9             10.0      11486\n",
       "10            11.0       9317\n",
       "11            12.0       8891"
      ]
     },
     "execution_count": 13,
     "metadata": {},
     "output_type": "execute_result"
    }
   ],
   "source": [
    "issueddatemthdf = df.groupby(['issueddate_mth']).count()['permitnum'].reset_index()\n",
    "issueddatemthdf"
   ]
  },
  {
   "cell_type": "code",
   "execution_count": null,
   "metadata": {},
   "outputs": [],
   "source": []
  },
  {
   "cell_type": "code",
   "execution_count": null,
   "metadata": {},
   "outputs": [],
   "source": []
  }
 ],
 "metadata": {
  "kernelspec": {
   "display_name": "Python 3",
   "language": "python",
   "name": "python3"
  },
  "language_info": {
   "codemirror_mode": {
    "name": "ipython",
    "version": 3
   },
   "file_extension": ".py",
   "mimetype": "text/x-python",
   "name": "python",
   "nbconvert_exporter": "python",
   "pygments_lexer": "ipython3",
   "version": "3.7.3"
  }
 },
 "nbformat": 4,
 "nbformat_minor": 2
}
